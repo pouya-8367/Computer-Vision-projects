{
 "cells": [
  {
   "cell_type": "code",
   "execution_count": 38,
   "id": "edcf50ff",
   "metadata": {},
   "outputs": [],
   "source": [
    "import numpy as np\n",
    "import pandas as pd\n",
    "from matplotlib import pyplot as plt\n",
    "import cv2\n",
    "import time"
   ]
  },
  {
   "cell_type": "code",
   "execution_count": 39,
   "id": "6de10f45",
   "metadata": {},
   "outputs": [],
   "source": [
    "cap = cv2.VideoCapture(0)\n",
    "\n",
    "while True:\n",
    "    ret, frame = cap.read()\n",
    "    frame = cv2.flip(frame, 1)\n",
    "    \n",
    "    gray = cv2.cvtColor(frame, cv2.COLOR_BGR2GRAY)\n",
    "    \n",
    "    haar_cascade = cv2.CascadeClassifier(cv2.data.haarcascades + 'haarcascade_frontalface_default.xml')\n",
    "    faces_rec = haar_cascade.detectMultiScale(gray, scaleFactor=1.1, minNeighbors=15)\n",
    "    \n",
    "    for (x, y, w, h) in faces_rec:\n",
    "        cv2.rectangle(frame, (x, y), (x+w, y+h), (0, 255, 0), thickness=5)\n",
    "    \n",
    "    cv2.putText(\n",
    "        img=frame,\n",
    "        text=f'Faces detected: {len(faces_rec)}',\n",
    "        org=(170, 50),\n",
    "        fontFace=cv2.FONT_HERSHEY_DUPLEX,\n",
    "        fontScale=1,\n",
    "        color=(0, 0, 255),\n",
    "        thickness=2\n",
    "    )\n",
    "    \n",
    "    cv2.imshow('Face Detection', frame)\n",
    "    \n",
    "    if cv2.waitKey(1) & 0xFF == ord('e'):\n",
    "        break\n",
    "\n",
    "cap.release()\n",
    "cv2.destroyAllWindows()"
   ]
  }
 ],
 "metadata": {
  "kernelspec": {
   "display_name": "venv",
   "language": "python",
   "name": "python3"
  },
  "language_info": {
   "codemirror_mode": {
    "name": "ipython",
    "version": 3
   },
   "file_extension": ".py",
   "mimetype": "text/x-python",
   "name": "python",
   "nbconvert_exporter": "python",
   "pygments_lexer": "ipython3",
   "version": "3.12.5"
  }
 },
 "nbformat": 4,
 "nbformat_minor": 5
}
